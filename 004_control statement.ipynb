{
 "cells": [
  {
   "cell_type": "code",
   "execution_count": 3,
   "metadata": {},
   "outputs": [
    {
     "name": "stdout",
     "output_type": "stream",
     "text": [
      "enter age of you : 18\n",
      "Your applying fresh voter id application \n",
      "can you provide following details \n",
      "enter your name : anjan\n",
      "enter DOB : 26/01/1994\n",
      "Thanks for visiting voter id application centre\n"
     ]
    }
   ],
   "source": [
    "# simple if\n",
    "# wap apply voter id application\n",
    "age = int(input(\"enter age of you : \"))\n",
    "if (age >= 18):\n",
    "    print(\"Your applying fresh voter id application \")\n",
    "    print(\"can you provide following details \")\n",
    "    name = input(\"enter your name : \")\n",
    "    DOB = input(\"enter DOB : \")\n",
    "print(\"Thanks for visiting voter id application centre\")"
   ]
  },
  {
   "cell_type": "code",
   "execution_count": null,
   "metadata": {},
   "outputs": [],
   "source": [
    "# wap find the area of circle  when the perimeter of circle is\n",
    "# more than 10 meter"
   ]
  },
  {
   "cell_type": "code",
   "execution_count": 5,
   "metadata": {},
   "outputs": [
    {
     "name": "stdout",
     "output_type": "stream",
     "text": [
      "enter side of sqr : 9\n",
      "peri =  36\n"
     ]
    }
   ],
   "source": [
    "# if and else\n",
    "# wap find the area of square when side is even other wise find the \n",
    "# perimter\n",
    "\n",
    "side = int(input(\"enter side of sqr : \"))\n",
    "if (side % 2 == 0 ):\n",
    "    area = side ** 2\n",
    "    print(\"area = \",area)\n",
    "else:\n",
    "    peri = 4 *  side\n",
    "    print(\"peri = \",peri)"
   ]
  },
  {
   "cell_type": "code",
   "execution_count": null,
   "metadata": {},
   "outputs": [],
   "source": [
    "# wap find area of triagnle when all sides are equal other wise \n",
    "# find the perimter"
   ]
  },
  {
   "cell_type": "code",
   "execution_count": 10,
   "metadata": {},
   "outputs": [
    {
     "name": "stdout",
     "output_type": "stream",
     "text": [
      "enter exp : -1\n",
      "enter proper input\n"
     ]
    }
   ],
   "source": [
    "# elif ladder\n",
    "# wap print the salary based on no of exp\n",
    "\n",
    "exp =int(input(\"enter exp : \"))\n",
    "if(exp >= 0 and  exp < 2):\n",
    "    print(\"salary : 20,000/- RS \")\n",
    "elif(exp >= 2 and exp <4 ):\n",
    "    print(\"salary : 40,000/- RS\")\n",
    "elif(exp >= 4 and exp < 6):\n",
    "    print(\"salary : 80,000/- RS\")\n",
    "elif(exp >= 6):\n",
    "    print(\"salary : 1 lac \")\n",
    "else:\n",
    "    print(\"enter proper input\")"
   ]
  },
  {
   "cell_type": "code",
   "execution_count": 15,
   "metadata": {},
   "outputs": [
    {
     "name": "stdout",
     "output_type": "stream",
     "text": [
      "enter a : 10\n",
      "enter a : 45\n",
      "enter a : 78\n",
      "big =  78\n"
     ]
    }
   ],
   "source": [
    "# nested if \n",
    "# any conditional statement is havinig some other conditional statement\n",
    "\n",
    "# wap find the biggest numner from 3 number\n",
    "a = int(input(\"enter a : \"))\n",
    "b = int(input(\"enter a : \"))\n",
    "c = int(input(\"enter a : \"))\n",
    "if(a > b):\n",
    "    \n",
    "    if(a < c):\n",
    "        big =c\n",
    "    else:\n",
    "        big =a\n",
    "else:\n",
    "    \n",
    "    if(b < c):\n",
    "        big =c\n",
    "    else:\n",
    "        big =b\n",
    "print(\"big = \",big)"
   ]
  },
  {
   "cell_type": "code",
   "execution_count": null,
   "metadata": {},
   "outputs": [],
   "source": [
    "# wap find given year is leap year or not\n",
    "#1900 ---> not leap\n",
    "#2000 ---> leap\n",
    "#"
   ]
  }
 ],
 "metadata": {
  "kernelspec": {
   "display_name": "Python 3",
   "language": "python",
   "name": "python3"
  },
  "language_info": {
   "codemirror_mode": {
    "name": "ipython",
    "version": 3
   },
   "file_extension": ".py",
   "mimetype": "text/x-python",
   "name": "python",
   "nbconvert_exporter": "python",
   "pygments_lexer": "ipython3",
   "version": "3.7.3"
  }
 },
 "nbformat": 4,
 "nbformat_minor": 2
}
