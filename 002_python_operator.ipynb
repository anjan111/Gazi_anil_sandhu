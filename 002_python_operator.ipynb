{
 "cells": [
  {
   "cell_type": "markdown",
   "metadata": {},
   "source": [
    "#  operators \n",
    "\n",
    "---> Which are used for to do the operations on data\n",
    "\n",
    "# Operand ---->  Data with in operatio\n",
    "\n",
    "\n",
    "# we are classified based on 2 ways\n",
    "\n",
    "#  1. Based on Operands\n",
    "\n",
    "\n",
    "--->  Based on No of operands are required to do the operation\n",
    "\n",
    "1. Unary Operator ----> We required only single operand\n",
    "\n",
    "        1. unary plus  --->   +\n",
    "        \n",
    "        2. unary minus --->    -\n",
    "        \n",
    "        3. Logical not --->   not\n",
    "        \n",
    "        4. Bitwise not  --->   ~\n",
    "\n",
    "2. Binary Operator ---> we required two operands\n",
    "\n",
    "ex :  addition , sub ,\n",
    "\n",
    "#  2. Based on  operations\n",
    "\n",
    "---> Arithmetic\n",
    "\n",
    "---> Relational\n",
    "\n",
    "---> Assignmnet \n",
    "\n",
    "---> Logical Operator\n",
    "\n",
    "---> Spcial Operator\n",
    "\n",
    "---> Bitwise "
   ]
  },
  {
   "cell_type": "code",
   "execution_count": 2,
   "metadata": {},
   "outputs": [
    {
     "name": "stdout",
     "output_type": "stream",
     "text": [
      "10\n",
      "-10\n",
      "False\n",
      "-11\n",
      "30\n",
      "10\n",
      "120\n"
     ]
    }
   ],
   "source": [
    "#1. Unary Operator ----> We required only single operand\n",
    "print( + 10) # 10\n",
    "print( - 10) # -10\n",
    "print(not 10)# False\n",
    "print(~10)  # -11\n",
    "\n",
    "# 2. Binary operators ---> we required the 2 operands\n",
    "print( 10 + 20)\n",
    "print (20 -10)\n",
    "print(10 * 12)"
   ]
  },
  {
   "cell_type": "markdown",
   "metadata": {},
   "source": [
    "# Arithmetic Operators \n",
    "\n",
    "--> addition                +\n",
    "\n",
    "--> subtraction             -\n",
    "\n",
    "--> Multipllication         *\n",
    "\n",
    "--> Devision                /  ---> quo\n",
    "\n",
    "--> Modulus                 %   ----> reminder\n",
    "\n",
    "--> Floor devision         //\n",
    "\n",
    "--> exponant               **"
   ]
  },
  {
   "cell_type": "code",
   "execution_count": 3,
   "metadata": {},
   "outputs": [
    {
     "name": "stdout",
     "output_type": "stream",
     "text": [
      "enter int : 22\n",
      "enter int : 3\n",
      "22  +  3  =  25\n",
      "22  -  3  =  19\n",
      "22  *  3  =  66\n",
      "22  /  3  =  7.333333333333333\n",
      "22  //  3  =  7\n",
      "22  %  3  =  1\n",
      "22  **  3  =  10648\n"
     ]
    }
   ],
   "source": [
    "a = int(input(\"enter int : \"))\n",
    "b = int(input(\"enter int : \"))\n",
    "print(a,\" + \",b, \" = \",a+b)\n",
    "print(a,\" - \",b, \" = \",a-b)\n",
    "print(a,\" * \",b, \" = \",a*b)\n",
    "print(a,\" / \",b, \" = \",a/b)\n",
    "print(a,\" // \",b, \" = \",a//b)\n",
    "print(a,\" % \",b, \" = \",a%b)\n",
    "print(a,\" ** \",b, \" = \",a**b)"
   ]
  },
  {
   "cell_type": "code",
   "execution_count": 4,
   "metadata": {},
   "outputs": [
    {
     "name": "stdout",
     "output_type": "stream",
     "text": [
      "enter int : 22.0\n",
      "enter int : 3\n",
      "22.0  +  3.0  =  25.0\n",
      "22.0  -  3.0  =  19.0\n",
      "22.0  *  3.0  =  66.0\n",
      "22.0  /  3.0  =  7.333333333333333\n",
      "22.0  //  3.0  =  7.0\n",
      "22.0  %  3.0  =  1.0\n",
      "22.0  **  3.0  =  10648.0\n"
     ]
    }
   ],
   "source": [
    "a = float(input(\"enter int : \"))\n",
    "b = float(input(\"enter int : \"))\n",
    "print(a,\" + \",b, \" = \",a+b)\n",
    "print(a,\" - \",b, \" = \",a-b)\n",
    "print(a,\" * \",b, \" = \",a*b)\n",
    "print(a,\" / \",b, \" = \",a/b)\n",
    "print(a,\" // \",b, \" = \",a//b)\n",
    "print(a,\" % \",b, \" = \",a%b)\n",
    "print(a,\" ** \",b, \" = \",a**b)"
   ]
  },
  {
   "cell_type": "markdown",
   "metadata": {},
   "source": [
    "# relational Operator\n",
    "\n",
    "1. lessthan               <\n",
    "\n",
    "2. greaterthan            >\n",
    "\n",
    "3. equalto               ==\n",
    "\n",
    "4. not equal to          !=\n",
    "\n",
    "5. lessthan or equl too  <=\n",
    "\n",
    "6. greaterthan or equaltoo   >="
   ]
  },
  {
   "cell_type": "code",
   "execution_count": 5,
   "metadata": {},
   "outputs": [
    {
     "name": "stdout",
     "output_type": "stream",
     "text": [
      "enter int : 10\n",
      "enter int : 20\n",
      "10  <  20  =  True\n",
      "10  >  20  =  False\n",
      "10  ==  20  =  False\n",
      "10  !=   20  =  True\n",
      "10  <=  20  =  True\n",
      "10  >=  20  =  False\n"
     ]
    }
   ],
   "source": [
    "a = int(input(\"enter int : \"))\n",
    "b = int(input(\"enter int : \"))\n",
    "print(a,\" < \",b, \" = \",a<b)\n",
    "print(a,\" > \",b, \" = \",a>b)\n",
    "print(a,\" == \",b, \" = \",a==b)\n",
    "print(a,\" !=  \",b, \" = \",a!=b)\n",
    "print(a,\" <= \",b, \" = \",a<=b)\n",
    "print(a,\" >= \",b, \" = \",a>=b)\n"
   ]
  },
  {
   "cell_type": "code",
   "execution_count": 6,
   "metadata": {},
   "outputs": [
    {
     "name": "stdout",
     "output_type": "stream",
     "text": [
      "enter int : 10\n",
      "enter int : 10\n",
      "10  <  10  =  False\n",
      "10  >  10  =  False\n",
      "10  ==  10  =  True\n",
      "10  !=   10  =  False\n",
      "10  <=  10  =  True\n",
      "10  >=  10  =  True\n"
     ]
    }
   ],
   "source": [
    "a = int(input(\"enter int : \"))\n",
    "b = int(input(\"enter int : \"))\n",
    "print(a,\" < \",b, \" = \",a<b)\n",
    "print(a,\" > \",b, \" = \",a>b)\n",
    "print(a,\" == \",b, \" = \",a==b)\n",
    "print(a,\" !=  \",b, \" = \",a!=b)\n",
    "print(a,\" <= \",b, \" = \",a<=b)\n",
    "print(a,\" >= \",b, \" = \",a>=b)\n"
   ]
  },
  {
   "cell_type": "code",
   "execution_count": 7,
   "metadata": {},
   "outputs": [
    {
     "name": "stdout",
     "output_type": "stream",
     "text": [
      "enter int : 20\n",
      "enter int : 10\n",
      "20  <  10  =  False\n",
      "20  >  10  =  True\n",
      "20  ==  10  =  False\n",
      "20  !=   10  =  True\n",
      "20  <=  10  =  False\n",
      "20  >=  10  =  True\n"
     ]
    }
   ],
   "source": [
    "a = int(input(\"enter int : \"))\n",
    "b = int(input(\"enter int : \"))\n",
    "print(a,\" < \",b, \" = \",a<b)\n",
    "print(a,\" > \",b, \" = \",a>b)\n",
    "print(a,\" == \",b, \" = \",a==b)\n",
    "print(a,\" !=  \",b, \" = \",a!=b)\n",
    "print(a,\" <= \",b, \" = \",a<=b)\n",
    "print(a,\" >= \",b, \" = \",a>=b)\n"
   ]
  },
  {
   "cell_type": "code",
   "execution_count": 8,
   "metadata": {},
   "outputs": [
    {
     "name": "stdout",
     "output_type": "stream",
     "text": [
      "10\n",
      "10\n",
      "120\n"
     ]
    }
   ],
   "source": [
    "# assignment operator\n",
    "var = 10   # constant to variable assignmnet \n",
    "\n",
    "a   = var  # variable to variable assignment\n",
    "\n",
    "c  = a*var+20  # expression to variable \n",
    "print(var)\n",
    "print(a)\n",
    "print(c)"
   ]
  },
  {
   "cell_type": "code",
   "execution_count": 10,
   "metadata": {},
   "outputs": [
    {
     "name": "stdout",
     "output_type": "stream",
     "text": [
      "10\n",
      "20\n",
      "30\n",
      "20\n",
      "******\n",
      "10\n",
      "20\n",
      "30\n",
      "20\n"
     ]
    }
   ],
   "source": [
    "# compound assgiment /   operation then update\n",
    "\n",
    "a = 10\n",
    "b = 20\n",
    "print(a)\n",
    "print(b)\n",
    "a = a+b  # addition then update a\n",
    "print(a)\n",
    "print(b)\n",
    "print(\"******\")\n",
    "a = 10\n",
    "b = 20\n",
    "print(a)\n",
    "print(b)\n",
    "a +=  b   # a = a+b  # addition then update a\n",
    "print(a)\n",
    "print(b)"
   ]
  },
  {
   "cell_type": "code",
   "execution_count": 11,
   "metadata": {},
   "outputs": [
    {
     "name": "stdout",
     "output_type": "stream",
     "text": [
      "10\n",
      "20\n",
      "-10\n",
      "20\n",
      "******\n",
      "10\n",
      "20\n",
      "-10\n",
      "20\n"
     ]
    }
   ],
   "source": [
    "a = 10\n",
    "b = 20\n",
    "print(a)\n",
    "print(b)\n",
    "a = a-b  # subtraction then update a\n",
    "print(a)\n",
    "print(b)\n",
    "print(\"******\")\n",
    "a = 10\n",
    "b = 20\n",
    "print(a)\n",
    "print(b)\n",
    "a -=  b   # a = a-b  # subtraction then update a\n",
    "print(a)\n",
    "print(b)"
   ]
  },
  {
   "cell_type": "code",
   "execution_count": null,
   "metadata": {},
   "outputs": [],
   "source": [
    "# wap find the area and perimeter of square \n",
    "# wap find the area and perimeter of rectangle\n",
    "#wap find the area and perimeter of triangle\n",
    "#wap find the area and perimeter of circle\n",
    "#wap find the area and pvolume of cube\n",
    "#wap find the area and perimeter of room\n",
    "#find the simple intrest"
   ]
  }
 ],
 "metadata": {
  "kernelspec": {
   "display_name": "Python 3",
   "language": "python",
   "name": "python3"
  },
  "language_info": {
   "codemirror_mode": {
    "name": "ipython",
    "version": 3
   },
   "file_extension": ".py",
   "mimetype": "text/x-python",
   "name": "python",
   "nbconvert_exporter": "python",
   "pygments_lexer": "ipython3",
   "version": "3.7.3"
  }
 },
 "nbformat": 4,
 "nbformat_minor": 2
}
