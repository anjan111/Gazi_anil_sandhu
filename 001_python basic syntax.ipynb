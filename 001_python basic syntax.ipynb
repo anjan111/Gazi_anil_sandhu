{
 "cells": [
  {
   "cell_type": "markdown",
   "metadata": {},
   "source": [
    "# syntax :-\n",
    "\n",
    "---> Structure for writing an instruction with in the program\n",
    "\n",
    "# program \n",
    "\n",
    "---> Collection of instruction for doing any specific task\n",
    "\n",
    "# instruction\n",
    "\n",
    "---> A line of code with in the program \n",
    "\n",
    "# Types of instuction\n",
    "\n",
    "--> Statements :-\n",
    "----------------------\n",
    "\n",
    "---> An instruction which can be executable by cpu \n",
    "\n",
    "--> Comments :-\n",
    "----------------------\n",
    "\n",
    "--->An instruction which can't be executable\n",
    "\n",
    "---> single line comment   (  # )\n",
    "\n",
    "---> Multiline comment ( '''  ''')"
   ]
  },
  {
   "cell_type": "code",
   "execution_count": 4,
   "metadata": {},
   "outputs": [
    {
     "name": "stdout",
     "output_type": "stream",
     "text": [
      "hello\n"
     ]
    }
   ],
   "source": [
    "# the below print is a statement which is printing hello\n",
    "# hello\n",
    "'''\n",
    "this is\n",
    "multiline comment\n",
    "'''\n",
    "print(\"hello\")"
   ]
  },
  {
   "cell_type": "markdown",
   "metadata": {},
   "source": [
    "# python names\n",
    "\n",
    "# keywords\n",
    "\n",
    "---> which are already defined words( predefined / built-in words)\n",
    "\n",
    "---> there are 35 keywords\n",
    "\n",
    "# identifiers\n",
    "\n",
    "---> Which are user defined / programmer words\n",
    "\n",
    "---> To identify the variables , functions, classes with names \n",
    "\n",
    "Rules :-\n",
    "----------\n",
    "\n",
    "---> we can't use keywords\n",
    "\n",
    "---> we can't use special characters \n",
    "\n",
    "---> don't start with digit\n",
    "\n",
    "---> we can use alphabets ( a - z / A -Z)\n",
    "\n",
    "---> we can use digits ( 0 - 9 )\n",
    "\n",
    "---> we can use underscore _"
   ]
  },
  {
   "cell_type": "code",
   "execution_count": 6,
   "metadata": {},
   "outputs": [
    {
     "name": "stdout",
     "output_type": "stream",
     "text": [
      "['False', 'None', 'True', 'and', 'as', 'assert', 'async', 'await', 'break', 'class', 'continue', 'def', 'del', 'elif', 'else', 'except', 'finally', 'for', 'from', 'global', 'if', 'import', 'in', 'is', 'lambda', 'nonlocal', 'not', 'or', 'pass', 'raise', 'return', 'try', 'while', 'with', 'yield']\n",
      "35\n"
     ]
    }
   ],
   "source": [
    "import keyword\n",
    "print(keyword.kwlist)\n",
    "print(len(keyword.kwlist))"
   ]
  },
  {
   "cell_type": "code",
   "execution_count": null,
   "metadata": {},
   "outputs": [],
   "source": [
    "#  python varaible"
   ]
  },
  {
   "cell_type": "code",
   "execution_count": null,
   "metadata": {},
   "outputs": [],
   "source": [
    "#  python datatypes"
   ]
  },
  {
   "cell_type": "code",
   "execution_count": null,
   "metadata": {},
   "outputs": [],
   "source": [
    "#  Basic function"
   ]
  }
 ],
 "metadata": {
  "kernelspec": {
   "display_name": "Python 3",
   "language": "python",
   "name": "python3"
  },
  "language_info": {
   "codemirror_mode": {
    "name": "ipython",
    "version": 3
   },
   "file_extension": ".py",
   "mimetype": "text/x-python",
   "name": "python",
   "nbconvert_exporter": "python",
   "pygments_lexer": "ipython3",
   "version": "3.7.3"
  }
 },
 "nbformat": 4,
 "nbformat_minor": 2
}
